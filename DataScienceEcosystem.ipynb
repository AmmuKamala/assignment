{
 "cells": [
  {
   "cell_type": "markdown",
   "id": "6534f9a3",
   "metadata": {},
   "source": [
    "# Data Science Tools and Echosystem"
   ]
  },
  {
   "cell_type": "markdown",
   "id": "cdd8974e",
   "metadata": {},
   "source": [
    "### In this notebook, Data Science  Tools and Ecosystem are summarized."
   ]
  },
  {
   "cell_type": "markdown",
   "id": "63b47422",
   "metadata": {},
   "source": [
    "**Objectives**\n",
    "+ List popular languages for data science\n",
    "+ List commonly used libraries by Data Scientist\n",
    "+ List Open Source Data Science tools"
   ]
  },
  {
   "cell_type": "markdown",
   "id": "530dc36f",
   "metadata": {},
   "source": [
    "#### Some of the popular languages that Data Scientists use are:\n",
    "1. Python\n",
    "2. Julia\n",
    "3. Scala\n",
    "4. Java"
   ]
  },
  {
   "cell_type": "markdown",
   "id": "59d3a065",
   "metadata": {},
   "source": [
    "#### Some of the commomnly used libraries used by Data scientists include:\n",
    "1. Numpy\n",
    "2. Pandas\n",
    "3. Scikit-learn"
   ]
  },
  {
   "cell_type": "markdown",
   "id": "360fe744",
   "metadata": {},
   "source": [
    "| Data Sience Tools |\n",
    "| :--- |\n",
    "| Apache Nifi |\n",
    "| MsSql |\n",
    "| Apache Superset |"
   ]
  },
  {
   "cell_type": "markdown",
   "id": "6e7fbed2",
   "metadata": {},
   "source": [
    "### Below are a few examples of evaluating arithematic expressions in Python\n"
   ]
  },
  {
   "cell_type": "code",
   "execution_count": 3,
   "id": "4d69d3b3",
   "metadata": {},
   "outputs": [
    {
     "data": {
      "text/plain": [
       "17"
      ]
     },
     "execution_count": 3,
     "metadata": {},
     "output_type": "execute_result"
    }
   ],
   "source": [
    "#This is a simple arithematic expression to multiply then add integers\n",
    "(3*4)+5"
   ]
  },
  {
   "cell_type": "code",
   "execution_count": 4,
   "id": "5e02eea5",
   "metadata": {},
   "outputs": [
    {
     "data": {
      "text/plain": [
       "3.3333333333333335"
      ]
     },
     "execution_count": 4,
     "metadata": {},
     "output_type": "execute_result"
    }
   ],
   "source": [
    "#This will convert 200 minutes to hours by divinding by 60\n",
    "200/60"
   ]
  },
  {
   "cell_type": "markdown",
   "id": "a9dee2c5",
   "metadata": {},
   "source": [
    "## Author\n",
    "Anu"
   ]
  },
  {
   "cell_type": "code",
   "execution_count": null,
   "id": "5dbfcc06",
   "metadata": {},
   "outputs": [],
   "source": []
  }
 ],
 "metadata": {
  "kernelspec": {
   "display_name": "Python 3 (ipykernel)",
   "language": "python",
   "name": "python3"
  },
  "language_info": {
   "codemirror_mode": {
    "name": "ipython",
    "version": 3
   },
   "file_extension": ".py",
   "mimetype": "text/x-python",
   "name": "python",
   "nbconvert_exporter": "python",
   "pygments_lexer": "ipython3",
   "version": "3.11.4"
  }
 },
 "nbformat": 4,
 "nbformat_minor": 5
}
